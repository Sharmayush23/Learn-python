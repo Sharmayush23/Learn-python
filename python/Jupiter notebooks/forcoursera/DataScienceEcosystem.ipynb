{
 "cells": [
  {
   "cell_type": "markdown",
   "metadata": {},
   "source": [
    "#Data Science Tools and Ecosystem\n"
   ]
  },
  {
   "cell_type": "markdown",
   "metadata": {},
   "source": [
    "#In this notebook, Data Science Tools and Ecosystem are summarized."
   ]
  },
  {
   "cell_type": "markdown",
   "metadata": {},
   "source": [
    "#Some of the popular languages that Data Scientists use are:\n",
    "   1.python\n",
    "   2.R\n",
    "   3.julia\n",
    "   4.sql\n",
    "   5.javascript\n"
   ]
  },
  {
   "cell_type": "markdown",
   "metadata": {},
   "source": [
    "Some of the commonly used libraries used by Data Scientists include:\n",
    "       1.NumPy. ...\n",
    "2.Matplotlib. ...\n",
    "3.Pandas. ...\n",
    "4.SciPy. ...\n",
    "5.PyTorch. ...\n",
    "6.Seaborn. ...\n"
   ]
  }
 ],
 "metadata": {
  "language_info": {
   "name": "python"
  }
 },
 "nbformat": 4,
 "nbformat_minor": 2
}
