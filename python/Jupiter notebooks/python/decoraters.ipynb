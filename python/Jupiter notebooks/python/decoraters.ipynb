{
 "cells": [
  {
   "cell_type": "code",
   "execution_count": 6,
   "metadata": {},
   "outputs": [
    {
     "name": "stdout",
     "output_type": "stream",
     "text": [
      "hello ____welocme to coding\n",
      "7\n"
     ]
    }
   ],
   "source": [
    "def greet(fxn):\n",
    "    def mfx(*args,**kwargs):\n",
    "\n",
    "        print(\"hello ____welocme to coding\")\n",
    "\n",
    "        return fxn(*args,**kwargs)\n",
    "    return mfx\n",
    "\n",
    "@greet\n",
    "def add(a,b):\n",
    "    return a+b \n",
    "@greet\n",
    "def greeting():\n",
    "    print(\"kar dia tumne run program\")\n",
    "c=add(3,4)\n",
    "print(c)"
   ]
  },
  {
   "cell_type": "code",
   "execution_count": 1,
   "metadata": {},
   "outputs": [
    {
     "name": "stdout",
     "output_type": "stream",
     "text": [
      "Dog says Woof\n"
     ]
    }
   ],
   "source": [
    "class Animal:\n",
    "    def __init__(self, name):\n",
    "        self.name = name\n",
    "\n",
    "    def make_sound(self, sound):\n",
    "        return f\"{self.name} says {sound}\"\n",
    "\n",
    "dog = Animal(\"Dog\")\n",
    "print(dog.make_sound(\"Woof\"))\n"
   ]
  },
  {
   "cell_type": "code",
   "execution_count": 5,
   "metadata": {},
   "outputs": [
    {
     "name": "stdout",
     "output_type": "stream",
     "text": [
      "3\n"
     ]
    }
   ],
   "source": [
    "class Shape:\n",
    "    shapes_created = 0\n",
    "\n",
    "    @classmethod\n",
    "    def new_shape(cls):\n",
    "        #Shape.shapes_created += 1 If cls dynamically refers to the subclass instead of the parent class, updates might affect only the subclass attribute\n",
    "        Shape.shapes_created += 1 # explicit way  .\n",
    "\n",
    "class Circle(Shape):\n",
    "    shapes_created=0\n",
    "\n",
    "class Square(Shape):\n",
    "    shapes_created=0\n",
    "\n",
    "Circle.new_shape()\n",
    "Square.new_shape()\n",
    "Square.new_shape()\n",
    "print(Shape.shapes_created)  # Output: 3\n"
   ]
  },
  {
   "cell_type": "code",
   "execution_count": 1,
   "metadata": {},
   "outputs": [
    {
     "name": "stdout",
     "output_type": "stream",
     "text": [
      "Instance value: 42\n",
      "Shared value: 100\n"
     ]
    }
   ],
   "source": [
    "class Test:\n",
    "    shared_value = 100  # Class attribute\n",
    "\n",
    "    def __init__(self, instance_value):\n",
    "        self.instance_value = instance_value  # Instance attribute\n",
    "\n",
    "    def instance_method(self):  # Uses `self`\n",
    "        return f\"Instance value: {self.instance_value}\"\n",
    "\n",
    "    @classmethod\n",
    "    def class_method(cls):  # Uses `cls`\n",
    "        return f\"Shared value: {cls.shared_value}\"\n",
    "\n",
    "# Instance call\n",
    "t = Test(42)\n",
    "print(t.instance_method())  # Output: Instance value: 42\n",
    "\n",
    "# Class-level call\n",
    "print(Test.class_method())  # Output: Shared value: 100\n"
   ]
  }
 ],
 "metadata": {
  "kernelspec": {
   "display_name": "myenv",
   "language": "python",
   "name": "python3"
  },
  "language_info": {
   "codemirror_mode": {
    "name": "ipython",
    "version": 3
   },
   "file_extension": ".py",
   "mimetype": "text/x-python",
   "name": "python",
   "nbconvert_exporter": "python",
   "pygments_lexer": "ipython3",
   "version": "3.12.6"
  }
 },
 "nbformat": 4,
 "nbformat_minor": 2
}
