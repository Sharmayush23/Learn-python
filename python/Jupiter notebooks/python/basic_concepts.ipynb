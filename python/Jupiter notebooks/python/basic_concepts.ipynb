{
  "cells": [
    {
      "cell_type": "markdown",
      "metadata": {
        "id": "A05OG15VqOPF"
      },
      "source": [
        "# Task : Session 1\n",
        "Solve these questions own your own and try to test yourself what you have learned in the session.\n",
        "\n",
        "Happy Learning!"
      ]
    },
    {
      "cell_type": "markdown",
      "metadata": {
        "id": "2doIXf8bqe9_"
      },
      "source": [
        "### Q1 :- Print the given strings as per stated format.\n",
        "\n",
        "**Given strings**:\n",
        "```\n",
        "\"Data\" \"Science\" \"Mentorship\" \"Program\"\n",
        "\"By\" \"CampusX\"\n",
        "```\n",
        "**Output**:\n",
        "```\n",
        "Data-Science-Mentorship-Program-started-By-CampusX\n",
        "```\n",
        "\n",
        "Concept- [Seperator and End]"
      ]
    },
    {
      "cell_type": "code",
      "execution_count": 2,
      "metadata": {
        "id": "-em6d3KErDtp"
      },
      "outputs": [
        {
          "name": "stdout",
          "output_type": "stream",
          "text": [
            "data-science-mentoriship-program\n"
          ]
        }
      ],
      "source": [
        "# Write your code here\n",
        "list=[\"data\",'science','mentoriship','program']\n",
        "\n",
        "print(list[0],list[1],list[2],list[3],sep='-')"
      ]
    },
    {
      "cell_type": "markdown",
      "metadata": {
        "id": "1KUpN7ZTrC3_"
      },
      "source": [
        "### Q2:- Write a program that will convert celsius value to fahrenheit."
      ]
    },
    {
      "cell_type": "code",
      "execution_count": 4,
      "metadata": {
        "id": "yxKYhYQiqWfj"
      },
      "outputs": [
        {
          "name": "stdout",
          "output_type": "stream",
          "text": [
            "109.4\n"
          ]
        }
      ],
      "source": [
        "# Write your code here\n",
        "\n",
        "celsius=int(input(\"enter the celsius\"))\n",
        "\n",
        "fahrenheit=(celsius*9/5)+ 32\n",
        "print(fahrenheit)"
      ]
    },
    {
      "cell_type": "markdown",
      "metadata": {
        "id": "RLrOBBJurLB2"
      },
      "source": [
        "### Q3:- Take 2 numbers as input from the user.Write a program to swap the numbers without using any special python syntax."
      ]
    },
    {
      "cell_type": "code",
      "execution_count": 7,
      "metadata": {
        "id": "yPn7if0TrJ4F"
      },
      "outputs": [
        {
          "name": "stdout",
          "output_type": "stream",
          "text": [
            "before sewap 3 5\n",
            "after sewap 5 3\n",
            "5 3\n"
          ]
        }
      ],
      "source": [
        "# Write your code here\n",
        "a=int(input(\"enter teh first number\"))\n",
        "b=int(input(\"enter teh secand number\"))\n",
        "print(\"before sewap\",a,b)\n",
        "temp=None\n",
        "temp=a\n",
        "a=b\n",
        "b=temp\n",
        "print(\"after sewap\",a,b)\n",
        "print(a,b)"
      ]
    },
    {
      "cell_type": "markdown",
      "metadata": {
        "id": "waLCP1bjr7ML"
      },
      "source": [
        "### Q4:- Write a program to find the euclidean distance between two coordinates.Take both the coordinates from the user as input."
      ]
    },
    {
      "cell_type": "code",
      "execution_count": 3,
      "metadata": {
        "id": "Pl1Sv-xnrxnH"
      },
      "outputs": [
        {
          "name": "stdout",
          "output_type": "stream",
          "text": [
            "0.0\n"
          ]
        }
      ],
      "source": [
        "# Write your code here\n",
        "point1_x=int(input(\"coordinate of point 1\"))\n",
        "point1_y=int(input(\"coordinate of point 2\"))\n",
        "\n",
        "point2_x=int(input(\"coordinate of point 1\"))\n",
        "point2_y=int(input(\"coordinate of point 2\"))\n",
        "\n",
        "distantace =( (point2_x-point1_x)+ (point2_y - point1_y))*.5\n",
        "\n",
        "print(distantace )"
      ]
    },
    {
      "cell_type": "markdown",
      "metadata": {},
      "source": [
        "another method"
      ]
    },
    {
      "cell_type": "code",
      "execution_count": 5,
      "metadata": {},
      "outputs": [
        {
          "name": "stdout",
          "output_type": "stream",
          "text": [
            "14.0\n"
          ]
        }
      ],
      "source": [
        "x1,y1=map(int,input(\"enter two poiints\").split())\n",
        "x2,y2=map(int,input(\"enter two poiints\").split())\n",
        "\n",
        "distantace =( (x2-x1)+ (y2 - y1))*.5\n",
        "print(distantace)"
      ]
    },
    {
      "cell_type": "markdown",
      "metadata": {
        "id": "VLrhg-FRsHjR"
      },
      "source": [
        "### Q5:- Write a program to find the simple interest when the value of principle,rate of interest and time period is provided by the user.\n"
      ]
    },
    {
      "cell_type": "code",
      "execution_count": null,
      "metadata": {
        "id": "s40DlReZsTmY"
      },
      "outputs": [
        {
          "name": "stdout",
          "output_type": "stream",
          "text": [
            "The Simple Interest is: 2.07\n"
          ]
        }
      ],
      "source": [
        "# Write your code here\n",
        "P , R ,T =map(int,input(\"enter the value of principal interst and time period\").split())\n",
        "\n",
        "s_i=(P*R*T)/100\n",
        "print(f\"The Simple Interest is: {s_i:.2f}\")"
      ]
    },
    {
      "cell_type": "markdown",
      "metadata": {
        "id": "LMy0BTUktYKa"
      },
      "source": [
        "### Q6:- Write a program that will tell the number of dogs and chicken are there when the user will provide the value of total heads and legs.\n",
        "\n",
        "For example:\n",
        "Input:\n",
        "heads -> 4\n",
        "legs -> 12\n",
        "<br>\n",
        "Output:\n",
        "dogs -> 2\n",
        "chicken -> 2\n",
        "\n",
        "\n",
        "\n"
      ]
    },
    {
      "cell_type": "code",
      "execution_count": null,
      "metadata": {
        "id": "XSBvJoA4tXaG"
      },
      "outputs": [],
      "source": [
        "# Write your code here\n",
        "heads,legs=map(int,input(\"enter the number of heads and legs\").split())\n",
        "\n",
        "\n",
        "\n",
        "\n"
      ]
    },
    {
      "cell_type": "markdown",
      "metadata": {
        "id": "gJ7C5kZYt4BP"
      },
      "source": [
        "### Q7:- Write a program to find the sum of squares of first n natural numbers where n will be provided by the user."
      ]
    },
    {
      "cell_type": "code",
      "execution_count": 15,
      "metadata": {
        "id": "_tHsmEHzt2nX"
      },
      "outputs": [
        {
          "name": "stdout",
          "output_type": "stream",
          "text": [
            "10\n"
          ]
        }
      ],
      "source": [
        "# Write your code here\n",
        "\n",
        "a=int(input(\"the the value fo n \"))\n",
        "sum=0\n",
        "for i in range(1,a+1):\n",
        "\n",
        "    sum = sum + i\n",
        "\n",
        "    \n",
        "print(sum)   "
      ]
    },
    {
      "cell_type": "markdown",
      "metadata": {},
      "source": [
        "Another Method"
      ]
    },
    {
      "cell_type": "code",
      "execution_count": 16,
      "metadata": {},
      "outputs": [
        {
          "name": "stdout",
          "output_type": "stream",
          "text": [
            "The sum of the first 4 natural numbers is: 10\n"
          ]
        }
      ],
      "source": [
        "a = int(input(\"Enter the value of n: \"))\n",
        "sum = (a * (a + 1)) // 2  # Use integer division to handle large numbers\n",
        "print(f\"The sum of the first {a} natural numbers is: {sum}\")\n"
      ]
    },
    {
      "cell_type": "markdown",
      "metadata": {
        "id": "FHrMM7g-yG1h"
      },
      "source": [
        "### Q8:- Given the first 2 terms of an Arithmetic Series.Find the Nth term of the series. Assume all inputs are provided by the user."
      ]
    },
    {
      "cell_type": "code",
      "execution_count": 19,
      "metadata": {
        "id": "go4_kmZmyVSx"
      },
      "outputs": [
        {
          "name": "stdout",
          "output_type": "stream",
          "text": [
            "6\n"
          ]
        }
      ],
      "source": [
        "# Write your code here\n",
        "first_term=int(input(\" the first term \"))\n",
        "\n",
        "secand_term=int(input(\"enter the secand term\"))\n",
        "\n",
        "comman_difference= secand_term - first_term\n",
        "find_term=int(input(\" tell the no of term \"))\n",
        "\n",
        "an= first_term + (find_term - 1 )* comman_difference\n",
        "\n",
        "print(an)"
      ]
    },
    {
      "cell_type": "markdown",
      "metadata": {
        "id": "QgyRX_es1oum"
      },
      "source": [
        "### Q9:- Given 2 fractions, find the sum of those 2 fractions.Take the numerator and denominator values of the fractions from the user."
      ]
    },
    {
      "cell_type": "code",
      "execution_count": 1,
      "metadata": {
        "id": "X05xqFS1yW16"
      },
      "outputs": [
        {
          "name": "stdout",
          "output_type": "stream",
          "text": [
            "6.0\n"
          ]
        }
      ],
      "source": [
        "# Write your code here\n",
        "num1 , deno1 = map(int,input(\"enter teh numinator nad denominator\").split())\n",
        "num2 , deno2 = map(int,input(\"enter teh numinator nad denominator\").split())\n",
        "\n",
        "lcm= deno2*deno1\n",
        "\n",
        "finalnuminator=lcm*num1 + lcm*num2\n",
        "\n",
        "sum=finalnuminator/lcm\n",
        "\n",
        "print(\"the sum of the fraction\",sum)"
      ]
    },
    {
      "cell_type": "markdown",
      "metadata": {
        "id": "eaql38ln13u7"
      },
      "source": [
        "### Q10:- Given the height, width and breadth of a milk tank, you have to find out how many glasses of milk can be obtained? Assume all the inputs are provided by the user.\n",
        "\n",
        "\n",
        "\n",
        "Input:<br>\n",
        "Dimensions of the milk tank<br>\n",
        "H = 20cm, L = 20cm, B = 20cm\n",
        "<br><br>\n",
        "Dimensions of the glass<br>\n",
        "h = 3cm, r = 1cm"
      ]
    },
    {
      "cell_type": "code",
      "execution_count": 20,
      "metadata": {
        "id": "FePZqno74eWv"
      },
      "outputs": [
        {
          "name": "stdout",
          "output_type": "stream",
          "text": [
            "5.095541401273885\n"
          ]
        }
      ],
      "source": [
        "# Write your code here\n",
        "height , width , breadth = map(int,input(\"enter the height width and breadth\").split())\n",
        "\n",
        "volume_of_tank=height* width* breadth\n",
        "\n",
        "vol= 3.14 * 1 *1*3\n",
        "\n",
        "n= volume_of_tank/ vol\n",
        "\n",
        "print(n)"
      ]
    }
  ],
  "metadata": {
    "colab": {
      "provenance": []
    },
    "kernelspec": {
      "display_name": "myenv",
      "language": "python",
      "name": "python3"
    },
    "language_info": {
      "codemirror_mode": {
        "name": "ipython",
        "version": 3
      },
      "file_extension": ".py",
      "mimetype": "text/x-python",
      "name": "python",
      "nbconvert_exporter": "python",
      "pygments_lexer": "ipython3",
      "version": "3.12.6"
    }
  },
  "nbformat": 4,
  "nbformat_minor": 0
}
