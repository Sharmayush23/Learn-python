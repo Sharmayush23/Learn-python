{
  "cells": [
    {
      "cell_type": "markdown",
      "metadata": {
        "id": "FyUJ3PRAsPr4"
      },
      "source": [
        "##`Q-1:` Rectangle Class\n",
        "1. Write a Rectangle class in Python language, allowing you to build a rectangle with length and width attributes.\n",
        "\n",
        "2. Create a Perimeter() method to calculate the perimeter of the rectangle and a Area() method to calculate the area of ​​the rectangle.\n",
        "\n",
        "3. Create a method display() that display the length, width, perimeter and area of an object created using an instantiation on rectangle class."
      ]
    },
    {
      "cell_type": "markdown",
      "metadata": {
        "id": "GxUtOqJfssFK"
      },
      "source": [
        "Eg.\n",
        "After making above classes and methods, on executing below code:-\n",
        "```\n",
        "my_rectangle = Rectangle(3 , 4)\n",
        "my_rectangle.display()\n",
        "```\n",
        "\n",
        "`Output:`\n",
        "```\n",
        "The length of rectangle is:  3\n",
        "The width of rectangle is:  4\n",
        "The perimeter of rectangle is:  14\n",
        "The area of rectangle is:  12\n",
        "```\n"
      ]
    },
    {
      "cell_type": "code",
      "execution_count": 1,
      "metadata": {
        "id": "92_QT-Uj6NBg"
      },
      "outputs": [
        {
          "name": "stdout",
          "output_type": "stream",
          "text": [
            "24\n",
            "32\n"
          ]
        }
      ],
      "source": [
        "# write your code here\n",
        "class rectangle:\n",
        "\n",
        "    def __init__(self,length,width):\n",
        "       self.length=length\n",
        "       self.width=width\n",
        "\n",
        "    def area(self):\n",
        "\n",
        "        area=self.length*self.width\n",
        "        return area\n",
        "    \n",
        "    def perimeter(self):\n",
        "\n",
        "        perimeter=2*(self.length+self.width)\n",
        "        return perimeter\n",
        "    \n",
        "\n",
        "rectangle=rectangle(4,8)\n",
        "acc=rectangle.perimeter()\n",
        "print(acc)\n",
        "print(rectangle.area())"
      ]
    },
    {
      "cell_type": "markdown",
      "metadata": {
        "id": "r_GxrS0Vrdom"
      },
      "source": [
        "##`Q-2: Bank Class`\n",
        "\n",
        "1. Create a Python class called `BankAccount` which represents a bank account, having as attributes: `accountNumber` (numeric type), `name` (name of the account owner as string type), `balance`.\n",
        "2. Create a constructor with parameters: `accountNumber, name, balance`.\n",
        "3. Create a `Deposit()` method which manages the deposit actions.\n",
        "4. Create a `Withdrawal()` method  which manages withdrawals actions.\n",
        "5. Create an `bankFees()` method to apply the bank fees with a percentage of 5% of the balance account.\n",
        "6. Create a `display()` method to display account details.\n",
        "Give the complete code for the  BankAccount class."
      ]
    },
    {
      "cell_type": "markdown",
      "metadata": {
        "id": "qvVkOUJgvTV_"
      },
      "source": [
        "Eg.\n",
        "After making above classes and methods, on executing below code:-\n",
        "```\n",
        "newAccount = BankAccount(2178514584, \"Mandy\" , 2800)\n",
        "\n",
        "newAccount.Withdrawal(700)\n",
        "\n",
        "newAccount.Deposit(1000)\n",
        "\n",
        "newAccount.display()\n",
        "```\n",
        "\n",
        "`Output:`\n",
        "```\n",
        "Account Number :  2178514584\n",
        "Account Name :  Mandy\n",
        "Account Balance :  3100 ₹\n",
        "```"
      ]
    },
    {
      "cell_type": "code",
      "execution_count": 2,
      "metadata": {
        "id": "fUQOmQyA6YDR"
      },
      "outputs": [
        {
          "name": "stdout",
          "output_type": "stream",
          "text": [
            "charge lga hai25.0\n",
            "account number  :  3445\n",
            "account name  :  ayush\n",
            "account balance  :  500\n",
            "None\n"
          ]
        }
      ],
      "source": [
        "# write your code here\n",
        "class bankaccount:\n",
        "    \n",
        "    \n",
        "    def __init__(self,acc_number,name,balance):\n",
        "        \n",
        "         self.acc_number=acc_number\n",
        "         self.name=name\n",
        "         self.balance=balance\n",
        "         def bank_fees(self):\n",
        "           self.balance = self.balance - self.balance*.05\n",
        "           return self.balance\n",
        "        \n",
        "    def deposit(self, deposit):\n",
        "      self.balance += deposit  # Update the balance\n",
        "      return self.balance      # Return the new balance\n",
        "\n",
        "         \n",
        "    def check_bank_chage(self):\n",
        "      bank_chage=self.balance*.05\n",
        "      print(f\"charge lga hai{bank_chage}\")   \n",
        "    \n",
        "    def withdrawal(self,amount):\n",
        "         self.balance -= amount\n",
        "         return self.balance\n",
        "    \n",
        "    def display(self):\n",
        "         \n",
        "        print( \"account number\",\" : \" , self.acc_number)\n",
        "        print( \"account name\",\" : \" , self.name)\n",
        "        print( \"account balance\",\" : \" , self.balance)\n",
        "\n",
        "    def bank_fees(self):\n",
        "       pass\n",
        "         \n",
        "    \n",
        "acc=bankaccount(3445,\"ayush\",300)\n",
        "acc.deposit(400)\n",
        "acc.withdrawal(200)\n",
        "acc.check_bank_chage()\n",
        "print(acc.display())"
      ]
    },
    {
      "cell_type": "code",
      "execution_count": 3,
      "metadata": {},
      "outputs": [
        {
          "name": "stdout",
          "output_type": "stream",
          "text": [
            "Name: Alice, Total Employees: 2\n",
            "Name: Bob, Total Employees: 2\n"
          ]
        }
      ],
      "source": [
        "class Employee:\n",
        "    employee_count = 0  # Class-level attribute\n",
        "\n",
        "    def __init__(self, name):\n",
        "        self.name = name  # Instance-level attribute\n",
        "\n",
        "    @classmethod\n",
        "    def hire_employee(cls, name):\n",
        "        cls.employee_count += 1  # Update shared class-level data\n",
        "        return cls(name)  # Use cls to create an instance\n",
        "\n",
        "    def details(self):\n",
        "        return f\"Name: {self.name}, Total Employees: {self.__class__.employee_count}\"\n",
        "\n",
        "# Create new employees using the class method\n",
        "emp1 = Employee.hire_employee(\"Alice\")\n",
        "emp2 = Employee.hire_employee(\"Bob\")\n",
        "\n",
        "# Access instance and class-level data\n",
        "print(emp1.details())\n",
        "# Output: Name: Alice, Total Employees: 2\n",
        "print(emp2.details())\n",
        "# Output: Name: Bob, Total Employees: 2\n"
      ]
    },
    {
      "cell_type": "markdown",
      "metadata": {
        "id": "QovcQAZTrgGU"
      },
      "source": [
        "##`Q-3:Computation class`\n",
        "\n",
        "1. Create a `Computation` class with a default constructor (without parameters) allowing to perform various calculations on integers numbers.\n",
        "2. Create a method called `Factorial()` which allows to calculate the factorial of an integer n. Integer n as parameter for this method\n",
        "\n",
        "3. Create a method called `naturalSum()` allowing to calculate the sum of the first n integers 1 + 2 + 3 + .. + n. Integer n as parameter for this method.\n",
        "\n",
        "4. Create a method called `testPrime()` in  the Calculation class to test the primality of a given integer n, n is Prime or Not? Integer n as parameter for this method.\n",
        "\n",
        "5. Create  a method called `testPrims()` allowing to test if two numbers are prime between them. Two integers are prime to one another if they have only `1` as their common divisor. Eg. 4 and 9 are prime to each other.\n",
        "\n",
        "5. Create a `tableMult()` method which creates and displays the multiplication table of a given integer. Then create an `allTablesMult()` method to display all the integer multiplication tables 1, 2, 3, ..., 9.\n",
        "\n",
        "6. Create a static `listDiv()` method that gets all the divisors of a given integer on new list called  Ldiv. Create another `listDivPrim()` method that gets all the prime divisors of a given integer."
      ]
    },
    {
      "cell_type": "code",
      "execution_count": 5,
      "metadata": {
        "id": "YEkPH70l6Z-o"
      },
      "outputs": [
        {
          "name": "stdout",
          "output_type": "stream",
          "text": [
            "\n",
            "Choose an option:\n",
            "1 -> Natural Sum\n",
            "2 -> Factorial\n",
            "3 -> Table of a number\n",
            "4 -> Test if a number is prime\n",
            "5 -> Exit\n",
            "Multiplication table for 42:\n",
            "42 x 1 = 42\n",
            "42 x 2 = 84\n",
            "42 x 3 = 126\n",
            "42 x 4 = 168\n",
            "42 x 5 = 210\n",
            "42 x 6 = 252\n",
            "42 x 7 = 294\n",
            "42 x 8 = 336\n",
            "42 x 9 = 378\n",
            "42 x 10 = 420\n",
            "\n",
            "Choose an option:\n",
            "1 -> Natural Sum\n",
            "2 -> Factorial\n",
            "3 -> Table of a number\n",
            "4 -> Test if a number is prime\n",
            "5 -> Exit\n",
            "Exiting the program.\n"
          ]
        }
      ],
      "source": [
        "class Computation:\n",
        "    def __init__(self):\n",
        "        self.menu()\n",
        "\n",
        "    def menu(self):\n",
        "        while True:\n",
        "            print(\"\\nChoose an option:\")\n",
        "            print(\"1 -> Natural Sum\")\n",
        "            print(\"2 -> Factorial\")\n",
        "            print(\"3 -> Table of a number\")\n",
        "            print(\"4 -> Test if a number is prime\")\n",
        "            print(\"5 -> Exit\")\n",
        "\n",
        "            try:\n",
        "                choice = int(input(\"Enter your choice: \"))\n",
        "                if choice == 1:\n",
        "                    num = int(input(\"Enter a number: \"))\n",
        "                    print(f\"The natural sum of {num} is {self.naturalsum(num)}\")\n",
        "                elif choice == 2:\n",
        "                    num = int(input(\"Enter a number: \"))\n",
        "                    print(f\"The factorial of {num} is {self.factorial(num)}\")\n",
        "                elif choice == 3:\n",
        "                    num = int(input(\"Enter a number: \"))\n",
        "                    self.table(num)\n",
        "                elif choice == 4:\n",
        "                    num = int(input(\"Enter a number: \"))\n",
        "                    if self.test_prime(num):\n",
        "                        print(f\"{num} is a prime number.\")\n",
        "                    else:\n",
        "                        print(f\"{num} is not a prime number.\")\n",
        "                elif choice == 5:\n",
        "                    print(\"Exiting the program.\")\n",
        "                    break\n",
        "                else:\n",
        "                    print(\"Invalid choice. Please choose again.\")\n",
        "            except ValueError:\n",
        "                print(\"Invalid input. Please enter a valid number.\")\n",
        "\n",
        "    def factorial(self, n):\n",
        "        if n < 0:\n",
        "            return \"Factorial is not defined for negative numbers\"\n",
        "        result = 1\n",
        "        for i in range(1, n + 1):\n",
        "            result *= i\n",
        "        return result\n",
        "\n",
        "    def table(self, number):\n",
        "        print(f\"Multiplication table for {number}:\")\n",
        "        for i in range(1, 11):\n",
        "            print(f\"{number} x {i} = {number * i}\")\n",
        "\n",
        "    def naturalsum(self, a):\n",
        "        return (a * (a + 1)) // 2\n",
        "\n",
        "    def test_prime(self, n):\n",
        "        if n <= 1:\n",
        "            return False\n",
        "        for i in range(2, int(n**0.5) + 1):  # Efficient primality test\n",
        "            if n % i == 0:\n",
        "                return False\n",
        "        return True\n",
        "\n",
        "\n",
        "# Run the program\n",
        "com = Computation()\n"
      ]
    },
    {
      "cell_type": "markdown",
      "metadata": {
        "id": "0yn23_oEriXa"
      },
      "source": [
        "##`Q-4`: Build flashcard using class in Python.\n",
        "\n",
        "Build a flashcard using class in python. A flashcard is a card having information on both sides, which can be used as an aid in memoization. Flashcards usually have a question on one side and an answer on the other.\n",
        "\n",
        "**Example 1:**\n",
        "\n",
        "Approach:\n",
        "\n",
        "- Create a class named FlashCard.\n",
        "- Initialize dictionary fruits using __init__() method. Here you have to define fruit name as key and it's color as value. E.g., {\"Banana\": \"yellow\", \"Strawberries\": \"pink\"}\n",
        "- Now randomly choose a pair from fruits by using _random_ module and store the key in variable _fruit_ and _value_ in variable color.\n",
        "- Now prompt the user to answer the color of the randomly chosen fruit.\n",
        "- If correct print correct else print wrong.\n",
        "\n",
        "Output:\n",
        "```bash\n",
        "welcome to fruit quiz\n",
        "What is the color of Strawberries\n",
        "pink\n",
        "Correct answer\n",
        "Enter 0, if you want to play again: 0\n",
        "What is the color of watermelon\n",
        "green\n",
        "Correct answer\n",
        "Enter 0, if you want to play again: 1\n",
        "```"
      ]
    },
    {
      "cell_type": "code",
      "execution_count": null,
      "metadata": {
        "id": "vCrUF6VU6l6w"
      },
      "outputs": [],
      "source": [
        "# write your code here"
      ]
    },
    {
      "cell_type": "markdown",
      "metadata": {
        "id": "GN2r0jbRewYr"
      },
      "source": [
        "## `Q-5:` Problem 5 based on OOP Python.\n",
        "\n",
        "TechWorld, a technology training center, wants to allocate courses for instructors. An instructor is identified by name, technology skills, experience and average feedback. An instructor is allocated a course, if he/she satisfies the below two conditions:\n",
        "- eligibility criteria:\n",
        "    - if experience is more than 3 years, average feedback should be 4.5 or more\n",
        "    - if experience is 3 years or less, average feedback should be 4 or more\n",
        "- he/she should posses the technology skill for the course\n",
        "\n",
        "Identify the class name and attributes to represent instructors. Write a Python program to implement the class chosen with its attributes and methods.\n",
        "\n",
        "**Note:**\n",
        "- Consider all instance variables to be private and methods to be public.\n",
        "- An instructor may have multiple technology skills, so consider instance variable, technology_skill to be a list.\n",
        "- *check_eligibility()*: Return true if eligibility criteria is satisfied by the instructor. Else, return false\n",
        "- *allocate_course(technology)*: Return true if the course which requires the given technology can be allocated to the instructor. Else, return false.\n",
        "\n",
        "Represent a few objects of the class, initialize instance variables using setter methods, invoke\n",
        "appropriate methods and test your program."
      ]
    },
    {
      "cell_type": "code",
      "execution_count": null,
      "metadata": {
        "id": "pdMFuVFnlvKL"
      },
      "outputs": [],
      "source": [
        "# write your code here"
      ]
    }
  ],
  "metadata": {
    "colab": {
      "provenance": []
    },
    "kernelspec": {
      "display_name": "Python 3",
      "language": "python",
      "name": "python3"
    },
    "language_info": {
      "codemirror_mode": {
        "name": "ipython",
        "version": 3
      },
      "file_extension": ".py",
      "mimetype": "text/x-python",
      "name": "python",
      "nbconvert_exporter": "python",
      "pygments_lexer": "ipython3",
      "version": "3.12.6"
    }
  },
  "nbformat": 4,
  "nbformat_minor": 0
}
