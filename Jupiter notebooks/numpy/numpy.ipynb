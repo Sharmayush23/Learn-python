{
 "cells": [
  {
   "cell_type": "markdown",
   "metadata": {},
   "source": [
    "numpy is the fundamental pcakage for the scientific computating in python \n",
    "python provide multidimensional arrray object   --> various derived onject such as marked array and metrics \n",
    "important points\n",
    "numpy arrays have a fixed size at creation unlike python lists (which grow dynamiclaly changing the size of an ndarray will create a new array and delete the original)"
   ]
  },
  {
   "cell_type": "code",
   "execution_count": 1,
   "metadata": {},
   "outputs": [],
   "source": [
    "import numpy as np\n",
    "\n",
    "#creating the numpy array \n",
    "#there are many ways to create numpy array\n",
    "    #1. using np.array() function\n",
    "    #2. using np.zeros() function\n",
    "    #3. using np.ones() function\n",
    "    #4. using np.arange() function\n",
    "    #5. using np.array() function\n",
    "\n",
    "\n"
   ]
  },
  {
   "cell_type": "code",
   "execution_count": 2,
   "metadata": {},
   "outputs": [
    {
     "name": "stdout",
     "output_type": "stream",
     "text": [
      "[2 3 5 6 3 6 4 4 3]\n"
     ]
    },
    {
     "data": {
      "text/plain": [
       "numpy.ndarray"
      ]
     },
     "execution_count": 2,
     "metadata": {},
     "output_type": "execute_result"
    }
   ],
   "source": [
    "#1. using np.array() function\n",
    "#one dimensional array \n",
    "l1=[2,3,5,6,3,6,4,4,3]\n",
    "arr=np.array(l1)\n",
    "print(arr)\n",
    "type(arr)"
   ]
  },
  {
   "cell_type": "code",
   "execution_count": 3,
   "metadata": {},
   "outputs": [
    {
     "name": "stdout",
     "output_type": "stream",
     "text": [
      "[[4 2 6 5 3 5 5 3]\n",
      " [3 6 3 7 3 4 5 5]]\n",
      "[[2 3 4 5 6]\n",
      " [3 4 5 6 7]]\n"
     ]
    }
   ],
   "source": [
    "#two dimensional array\n",
    "\n",
    "li2=[4,2,6,5,3,5,5,3]\n",
    "li3=[3,6,3,7,3,4,5,5]\n",
    "\n",
    "arr=np.array([[2,3,4,5,6],[3,4,5,6,7]])\n",
    "print(np.array([li2,li3]))\n",
    "print(arr)\n",
    "\n"
   ]
  },
  {
   "cell_type": "code",
   "execution_count": 4,
   "metadata": {},
   "outputs": [
    {
     "name": "stdout",
     "output_type": "stream",
     "text": [
      "[[ 2  4 67  8  9]\n",
      " [ 2  5  7 45  9]\n",
      " [ 4  5  7 23  6]]\n",
      "the shape of the array is  (2, 3, 3)\n",
      "[[[2 3 4]\n",
      "  [3 4 5]\n",
      "  [4 5 6]]\n",
      "\n",
      " [[2 3 4]\n",
      "  [3 4 5]\n",
      "  [4 5 6]]]\n"
     ]
    }
   ],
   "source": [
    "#3-d array \n",
    "a=[2,4,67,8,9]\n",
    "b=[2,5,7,45,9]\n",
    "c=[4,5,7,23,6]\n",
    "print(np.array([a,b,c]))\n",
    "arr1=np.array([[[2,3,4],[3,4,5],[4,5,6]],[[2,3,4],[3,4,5],[4,5,6]]])\n",
    "print(\"the shape of the array is \",arr1.shape)\n",
    "print(arr1)\n"
   ]
  },
  {
   "cell_type": "code",
   "execution_count": 5,
   "metadata": {},
   "outputs": [
    {
     "name": "stdout",
     "output_type": "stream",
     "text": [
      "[ True  True  True  True  True]\n"
     ]
    }
   ],
   "source": [
    "#Array of favorite data type\n",
    "arr=np.array([2,3,4,5,6],dtype=float)\n",
    "#by dtype we can change the data type of the array and know  the data type of the array\n",
    "arr=np.array([2,3,4,5,6],dtype=bool)\n",
    "print(arr)"
   ]
  },
  {
   "cell_type": "code",
   "execution_count": 6,
   "metadata": {},
   "outputs": [
    {
     "name": "stdout",
     "output_type": "stream",
     "text": [
      "(5,)\n",
      "[[ 2  4]\n",
      " [ 6  8]\n",
      " [10 12]\n",
      " [14 16]\n",
      " [18 20]]\n"
     ]
    }
   ],
   "source": [
    "#secand function to create arrray is np.arange(start,stop,step)\n",
    "arr=np.arange(1,10,2)\n",
    "print(arr.shape)\n",
    "#it will create the array from 1 to 10 with step of 2\n",
    "#.reshape() function is used to change the shape of the array it is most of the work with the np.arange() function\n",
    "\n",
    "arr1=np.arange(2,21,2).reshape(5,2)\n",
    "print(arr1)"
   ]
  },
  {
   "cell_type": "code",
   "execution_count": 7,
   "metadata": {},
   "outputs": [
    {
     "name": "stdout",
     "output_type": "stream",
     "text": [
      "[0. 0. 0. 0. 0.]\n",
      "[[0. 0. 0.]\n",
      " [0. 0. 0.]\n",
      " [0. 0. 0.]]\n"
     ]
    }
   ],
   "source": [
    "#third function to create the array is np.zeros() function and np.ones() function\n",
    "#np.zeros() function will create the array of zeros\n",
    "#np.zeros_like() and np.ones_like() function will create the array of zeros and ones like the given array\n",
    "arr=np.zeros(5)\n",
    "print(arr)\n",
    "\n",
    "arr=np.zeros((3,3))\n",
    "#used to initialize the array with zeros\n",
    "print(arr)\n"
   ]
  },
  {
   "cell_type": "code",
   "execution_count": 8,
   "metadata": {},
   "outputs": [
    {
     "name": "stdout",
     "output_type": "stream",
     "text": [
      "[[1. 1. 1.]\n",
      " [1. 1. 1.]\n",
      " [1. 1. 1.]]\n"
     ]
    }
   ],
   "source": [
    "#np.ones(tuple) it take arugument as tuple and create the array of ones\n",
    "arr=np.ones((3,3))\n",
    "print(arr)\n"
   ]
  },
  {
   "cell_type": "code",
   "execution_count": 9,
   "metadata": {},
   "outputs": [
    {
     "name": "stdout",
     "output_type": "stream",
     "text": [
      "array of natural numbers  [[0.97628163 0.76445197 0.03864138]\n",
      " [0.01907013 0.95236166 0.19668395]\n",
      " [0.29856056 0.62477452 0.34074294]]\n",
      "[[9 8 5]\n",
      " [1 5 1]\n",
      " [3 7 5]]\n",
      "[[0.10256222 0.71165434 0.55268272]\n",
      " [0.98550181 0.80586659 0.97012513]\n",
      " [0.61521271 0.13729405 0.16648545]]\n"
     ]
    }
   ],
   "source": [
    "#there is  one more function is by random method \n",
    "#np.random.rand() function is used to create the array of random numbers\n",
    "arr=np.random.rand(3,3)\n",
    "print(\"array of natural numbers \",arr)\n",
    "#np.random.randint() function is used to create the array of random integers\n",
    "arr=np.random.randint(1,10,(3,3)) # randint(start,stop,(shape))\n",
    "\n",
    "print(arr)\n",
    "\n",
    "#np.random.randn() function is used to create the array of random numbers with normal distribution\n",
    "arr=np.random.randn(3,3)\n",
    "#rint(arr)\n",
    "#np.random.normal() function is used to create the array of random numbers with normal distribution\n",
    "#np.randon.random() function is used to create the array of random numbers between 0 and 1\n",
    "arr=np.random.random((3,3))\n",
    "print(arr)"
   ]
  },
  {
   "cell_type": "code",
   "execution_count": 13,
   "metadata": {},
   "outputs": [
    {
     "data": {
      "text/plain": [
       "array([ 1.  ,  3.25,  5.5 ,  7.75, 10.  ])"
      ]
     },
     "execution_count": 13,
     "metadata": {},
     "output_type": "execute_result"
    }
   ],
   "source": [
    "# THIRD METHOD IS  LINEARLY SEPARABLE \n",
    "#np.linspace(start,stop,NO OF number) function is used to create the array of linearly separable numbers\n",
    "# give the start and stop and the number of numbers you want between the start and stop the number is equally spaced means the distance between the two numbers is same\n",
    "arr=np.linspace(1,10,5)\n",
    "\n",
    "arr"
   ]
  },
  {
   "cell_type": "code",
   "execution_count": 14,
   "metadata": {},
   "outputs": [
    {
     "name": "stdout",
     "output_type": "stream",
     "text": [
      "[[1. 0. 0.]\n",
      " [0. 1. 0.]\n",
      " [0. 0. 1.]]\n",
      "[[1. 0. 0.]\n",
      " [0. 1. 0.]\n",
      " [0. 0. 1.]]\n"
     ]
    }
   ],
   "source": [
    "#np.eye() function is used to create the identity matrix also called as unit matrix\n",
    "#np.indentity() function is also used to create the identity matrix\n",
    "arr=np.eye(3)\n",
    "print(arr)\n",
    "arr=np.identity(3)\n",
    "print(arr)\n",
    "#create a matrix of 3*3 with diagonal elements as 1 and rest of the elements as 0"
   ]
  },
  {
   "cell_type": "markdown",
   "metadata": {},
   "source": [
    "there are all the methods to create a numpy array \n",
    "\n"
   ]
  },
  {
   "cell_type": "code",
   "execution_count": 21,
   "metadata": {},
   "outputs": [
    {
     "name": "stdout",
     "output_type": "stream",
     "text": [
      "[[ 0  1  2  3]\n",
      " [ 4  5  6  7]\n",
      " [ 8  9 10 11]]\n",
      "shape is  (12,)\n",
      "item size is  12\n",
      "dimension 1\n",
      "data type is  int32\n",
      "item size is 4\n"
     ]
    }
   ],
   "source": [
    "#Arra attribues\n",
    "#1. shape\n",
    "a1=np.arange(12)\n",
    "print(a1.reshape(3,4))\n",
    "print(\"shape is \",a1.shape)\n",
    "\n",
    "#2. size\n",
    "print(\"item size is \",a1.size)\n",
    "\n",
    "#3. ndim\n",
    "print(\"dimension\",a1.ndim)\n",
    "\n",
    "#4. dtype\n",
    "print(\"data type is \",a1.dtype)\n",
    "\n",
    "#5. itemsize\n",
    "print(\"item size is\",a1.itemsize)\n",
    "\n"
   ]
  },
  {
   "cell_type": "code",
   "execution_count": 24,
   "metadata": {},
   "outputs": [
    {
     "name": "stdout",
     "output_type": "stream",
     "text": [
      "[ 0  1  2  3  4  5  6  7  8  9 10 11]\n",
      "int32\n",
      "[ 0  1  2  3  4  5  6  7  8  9 10 11]\n",
      "float64\n"
     ]
    }
   ],
   "source": [
    "#changing data type of the array\n",
    "a1=np.arange(12)\n",
    "print(a1)\n",
    "print(a1.dtype)\n",
    "a1=a1.astype(float)\n",
    "\n",
    "#also change to the int 32 ,int64 and so on \n",
    "print(a1.astype(np.int32))\n",
    "print(a1.dtype)\n"
   ]
  },
  {
   "cell_type": "code",
   "execution_count": 11,
   "metadata": {},
   "outputs": [
    {
     "data": {
      "text/plain": [
       "array([2, 3, 5, 6, 3, 6, 4, 4, 3])"
      ]
     },
     "execution_count": 11,
     "metadata": {},
     "output_type": "execute_result"
    }
   ],
   "source": [
    "arr"
   ]
  },
  {
   "cell_type": "code",
   "execution_count": 12,
   "metadata": {},
   "outputs": [
    {
     "data": {
      "text/plain": [
       "array([7, 5, 8])"
      ]
     },
     "execution_count": 12,
     "metadata": {},
     "output_type": "execute_result"
    }
   ],
   "source": [
    "np.random.randint(4,10,3)"
   ]
  },
  {
   "cell_type": "markdown",
   "metadata": {},
   "source": [
    "#Okay, here's an improved and consolidated guide to the essential NumPy functions, focusing on practical application, syntax, and key concepts, drawing from the sources and our conversation history:\n",
    "\n",
    "**Core NumPy Functions for Practical Use**\n",
    "\n",
    "This section details the most useful NumPy functions, their syntax, and how they're applied in real-world data analysis and machine learning.\n",
    "\n",
    "*   **Array Manipulation:**\n",
    "\n",
    "    *   **`np.sort()`**: Sorts array elements.\n",
    "        *   **Syntax:**\n",
    "            *   `np.sort(array)`: Sorts a 1D array in ascending order.\n",
    "            *   `np.sort(array, axis=0)`: Sorts a 2D array column-wise.\n",
    "            *   `np.sort(array, axis=1)`: Sorts a 2D array row-wise.\n",
    "            *   `np.sort(array, kind='quicksort')`: Specifies the sorting algorithm (e.g., quicksort).\n",
    "        *   **Key points:** Returns a *sorted copy* of the array; the original array is unchanged. Use the `axis` parameter for multidimensional sorting.\n",
    "    *   **`np.append()`**: Adds items to the end of an array.\n",
    "        *   **Syntax:**\n",
    "            *  `np.append(array, values)`: Appends `values` to the end of the flattened array.\n",
    "            *   `np.append(array, values, axis=1)`: Appends `values` as a new column.\n",
    "        *  **Key points**: Use the `axis` parameter to control whether you're adding to rows or columns.\n",
    "    *   **`np.concatenate()`**: Joins arrays together.\n",
    "        *   **Syntax:**\n",
    "            *   `np.concatenate((array1, array2), axis=0)`: Concatenates arrays row-wise (vertically).\n",
    "            *   `np.concatenate((array1, array2), axis=1)`: Concatenates arrays column-wise (horizontally).\n",
    "        *   **Key points:** Can be used as a replacement for `vstack` and `hstack`. `axis` specifies the direction of concatenation.\n",
    "\n",
    "*   **Data Analysis:**\n",
    "\n",
    "    *   **`np.unique()`**: Extracts unique values from an array.\n",
    "        *   **Syntax:** `np.unique(array)`\n",
    "        *   **Key points:** Useful for finding distinct values within a dataset.\n",
    "    *   **`np.expand_dims()`**: Adds extra dimensions to an array.\n",
    "        *   **Syntax:**\n",
    "            *   `np.expand_dims(array, axis=0)`: Adds a new dimension, creating a row vector.\n",
    "            *   `np.expand_dims(array, axis=1)`: Adds a new dimension, creating a column vector.\n",
    "         *  **Key points:** Essential for preparing data for machine learning, where algorithms often expect batches of inputs (2D data).\n",
    "    *   **`np.where()`**: Returns indices of elements that meet a condition, or replaces values based on a condition.\n",
    "        *   **Syntax:**\n",
    "            *   `np.where(condition)`: Returns indices where the condition is true.\n",
    "            *   `np.where(condition, value_if_true, value_if_false)`: Replaces values based on the condition.\n",
    "         *   **Key points**: Powerful for conditional data manipulation and filtering.\n",
    "    *   **`np.argmax()` and `np.argmin()`**: Finds the indices of maximum and minimum values.\n",
    "        *   **Syntax:**\n",
    "            *   `np.argmax(array)`: Returns the index of the maximum value in a flattened array.\n",
    "            *  `np.argmax(array, axis=0)`: Returns the indices of the maximum values along each column of a 2D array.\n",
    "            *   `np.argmin(array)`: Returns the index of the minimum value in a flattened array.\n",
    "        *  **Key points:** Useful for quickly identifying extreme values in data.\n",
    "    *   **`np.cumsum()` and `np.cumprod()`**: Calculates cumulative sum and product.\n",
    "        *   **Syntax:**\n",
    "            *   `np.cumsum(array)`: Cumulative sum of the flattened array.\n",
    "            *   `np.cumsum(array, axis=0)`: Cumulative sum along columns.\n",
    "            *  `np.cumprod(array)`: Cumulative product of the flattened array.\n",
    "        *   **Key points**:  Used for tracking running totals in data analysis.\n",
    "    *   **`np.percentile()`**: Computes the specified percentile of data.\n",
    "        *   **Syntax:** `np.percentile(array, percentile_value)`.\n",
    "        *   **Key points**: Essential for understanding data distribution and spread.\n",
    "    *   **`np.histogram()`**: Calculates frequency counts within given bins (ranges).\n",
    "        *   **Syntax:** `np.histogram(array, bins)`.\n",
    "        *   **Key points**:  Useful for visualizing data distributions using histograms.\n",
    "    *    **`np.corrcoef()`**: Calculates the Pearson correlation coefficient.\n",
    "         *   **Syntax:** `np.corrcoef(array1, array2)`.\n",
    "         *   **Key points**: Measures the linear relationship between two variables, from -1 to 1.\n",
    "\n",
    "*   **Set Operations:**\n",
    "\n",
    "    *   **`np.union1d()`, `np.intersect1d()`, `np.setdiff1d()`**: Perform set operations on arrays.\n",
    "        *   **Syntax**:\n",
    "            *   `np.union1d(array1, array2)`: Returns the union of the arrays.\n",
    "            *   `np.intersect1d(array1, array2)`: Returns the intersection of the arrays.\n",
    "            *   `np.setdiff1d(array1, array2)`: Returns the elements in `array1` that are not in `array2`.\n",
    "        *   **Key points**: Similar to Python set operations, but output is a NumPy array.\n",
    "\n",
    "*   **Other Useful Functions:**\n",
    "\n",
    "    *   **`np.searchsorted()`**: Searches for multiple items in a sorted array.\n",
    "        *   **Syntax:** `np.searchsorted(array, items_to_search)`.\n",
    "        *   **Key points**: Efficient way to search for multiple items.\n",
    "    *   **`np.flip()`**: Reverses the order of elements in an array.\n",
    "        *   **Syntax:**\n",
    "            *   `np.flip(array)`: Flips the array along all axes.\n",
    "            *   `np.flip(array, axis=0)`: Flips the array along rows.\n",
    "            *   `np.flip(array, axis=1)`: Flips the array along columns.\n",
    "        *  **Key points**: Can reverse rows, columns, or the entire array.\n",
    "    *   **`np.put()`**: Edits elements of an array at specified indices.\n",
    "        *   **Syntax**: `np.put(array, indices, new_values)`.\n",
    "        *    **Key points**:  Changes the original array.\n",
    "    *   **`np.delete()`**: Deletes elements from an array based on their indices.\n",
    "        *   **Syntax**: `np.delete(array, indices)`.\n",
    "         *   **Key points**: Alters the original array.\n",
    "    *   **`np.clip()`**: Limits values in an array to a specified range.\n",
    "        *   **Syntax**: `np.clip(array, min_value, max_value)`.\n",
    "        *    **Key points**:  Useful in machine learning and deep learning to handle outliers or ensure values are within a defined range.\n",
    "\n",
    "**Key Concepts**\n",
    "\n",
    "*   **Vectorization:** NumPy functions are designed to operate on entire arrays at once, not individual elements. This is much faster than using loops.\n",
    "*   **Axis Parameter:** Crucial for specifying the direction of operations in multidimensional arrays (e.g., `axis=0` for columns, `axis=1` for rows).\n",
    "*   **In-place vs. Copy:** Some functions (like `np.put()`, `np.delete()`) modify the original array directly, while others (like `np.sort()`) return a copy, leaving the original unchanged.\n",
    "\n"
   ]
  }
 ],
 "metadata": {
  "kernelspec": {
   "display_name": "Python 3",
   "language": "python",
   "name": "python3"
  },
  "language_info": {
   "codemirror_mode": {
    "name": "ipython",
    "version": 3
   },
   "file_extension": ".py",
   "mimetype": "text/x-python",
   "name": "python",
   "nbconvert_exporter": "python",
   "pygments_lexer": "ipython3",
   "version": "3.12.6"
  }
 },
 "nbformat": 4,
 "nbformat_minor": 2
}
