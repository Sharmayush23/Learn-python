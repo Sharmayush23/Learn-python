{
 "cells": [
  {
   "cell_type": "markdown",
   "metadata": {},
   "source": [
    "numpy is the fundamental pcakage for the scientific computating in python \n",
    "python provide multidimensional arrray object   --> various derived onject such as marked array and metrics \n",
    "important points\n",
    "numpy arrays have a fixed size at creation unlike python lists (which grow dynamiclaly changing the size of an ndarray will create a new array and delete the original)"
   ]
  },
  {
   "cell_type": "code",
   "execution_count": null,
   "metadata": {},
   "outputs": [
    {
     "name": "stdout",
     "output_type": "stream",
     "text": [
      "[2 3 5 6 3 6 4 4 3]\n"
     ]
    },
    {
     "data": {
      "text/plain": [
       "numpy.ndarray"
      ]
     },
     "execution_count": 1,
     "metadata": {},
     "output_type": "execute_result"
    }
   ],
   "source": [
    "import numpy as np\n",
    "\n",
    "#creating the numpy array \n",
    "#there are many ways to create numpy array\n",
    "    #1. using np.array() function\n",
    "    #2. using np.zeros() function\n",
    "    #3. using np.ones() function\n",
    "    #4. using np.arange() function\n",
    "    #5. using np.array() function\n",
    "\n",
    "\n"
   ]
  },
  {
   "cell_type": "code",
   "execution_count": null,
   "metadata": {},
   "outputs": [],
   "source": [
    "#1. using np.array() function\n",
    "#one dimensional array \n",
    "l1=[2,3,5,6,3,6,4,4,3]\n",
    "arr=np.array(l1)\n",
    "print(arr)\n",
    "type(arr)"
   ]
  },
  {
   "cell_type": "code",
   "execution_count": 13,
   "metadata": {},
   "outputs": [
    {
     "name": "stdout",
     "output_type": "stream",
     "text": [
      "[[4 2 6 5 3 5 5 3]\n",
      " [3 6 3 7 3 4 5 5]]\n",
      "[[2 3 4 5 6]\n",
      " [3 4 5 6 7]]\n"
     ]
    }
   ],
   "source": [
    "#two dimensional array\n",
    "\n",
    "li2=[4,2,6,5,3,5,5,3]\n",
    "li3=[3,6,3,7,3,4,5,5]\n",
    "\n",
    "arr=np.array([[2,3,4,5,6],[3,4,5,6,7]])\n",
    "print(np.array([li2,li3]))\n",
    "print(arr)\n",
    "\n"
   ]
  },
  {
   "cell_type": "code",
   "execution_count": 17,
   "metadata": {},
   "outputs": [
    {
     "name": "stdout",
     "output_type": "stream",
     "text": [
      "[[ 2  4 67  8  9]\n",
      " [ 2  5  7 45  9]\n",
      " [ 4  5  7 23  6]]\n",
      "the shape of the array is  (2, 3, 3)\n",
      "[[[2 3 4]\n",
      "  [3 4 5]\n",
      "  [4 5 6]]\n",
      "\n",
      " [[2 3 4]\n",
      "  [3 4 5]\n",
      "  [4 5 6]]]\n"
     ]
    }
   ],
   "source": [
    "#3-d array \n",
    "a=[2,4,67,8,9]\n",
    "b=[2,5,7,45,9]\n",
    "c=[4,5,7,23,6]\n",
    "print(np.array([a,b,c]))\n",
    "arr1=np.array([[[2,3,4],[3,4,5],[4,5,6]],[[2,3,4],[3,4,5],[4,5,6]]])\n",
    "print(\"the shape of the array is \",arr1.shape)\n",
    "print(arr1)\n"
   ]
  },
  {
   "cell_type": "code",
   "execution_count": 19,
   "metadata": {},
   "outputs": [
    {
     "name": "stdout",
     "output_type": "stream",
     "text": [
      "[ True  True  True  True  True]\n"
     ]
    }
   ],
   "source": [
    "#Array of favorite data type\n",
    "arr=np.array([2,3,4,5,6],dtype=float)\n",
    "#by dtype we can change the data type of the array and know  the data type of the array\n",
    "arr=np.array([2,3,4,5,6],dtype=bool)\n",
    "print(arr)"
   ]
  },
  {
   "cell_type": "code",
   "execution_count": 25,
   "metadata": {},
   "outputs": [
    {
     "name": "stdout",
     "output_type": "stream",
     "text": [
      "(5,)\n",
      "[[ 2  4]\n",
      " [ 6  8]\n",
      " [10 12]\n",
      " [14 16]\n",
      " [18 20]]\n"
     ]
    }
   ],
   "source": [
    "#secand function to create arrray is np.arange(start,stop,step)\n",
    "arr=np.arange(1,10,2)\n",
    "print(arr.shape)\n",
    "#it will create the array from 1 to 10 with step of 2\n",
    "#.reshape() function is used to change the shape of the array it is most of the work with the np.arange() function\n",
    "\n",
    "arr1=np.arange(2,21,2).reshape(5,2)\n",
    "print(arr1)"
   ]
  },
  {
   "cell_type": "code",
   "execution_count": 29,
   "metadata": {},
   "outputs": [
    {
     "name": "stdout",
     "output_type": "stream",
     "text": [
      "[0. 0. 0. 0. 0.]\n",
      "[[0. 0. 0.]\n",
      " [0. 0. 0.]\n",
      " [0. 0. 0.]]\n"
     ]
    }
   ],
   "source": [
    "#third function to create the array is np.zeros() function and np.ones() function\n",
    "#np.zeros() function will create the array of zeros\n",
    "#np.zeros_like() and np.ones_like() function will create the array of zeros and ones like the given array\n",
    "arr=np.zeros(5)\n",
    "print(arr)\n",
    "\n",
    "arr=np.zeros((3,3))\n",
    "#used to initialize the array with zeros\n",
    "print(arr)\n"
   ]
  },
  {
   "cell_type": "code",
   "execution_count": 31,
   "metadata": {},
   "outputs": [
    {
     "name": "stdout",
     "output_type": "stream",
     "text": [
      "[[1. 1. 1.]\n",
      " [1. 1. 1.]\n",
      " [1. 1. 1.]]\n"
     ]
    }
   ],
   "source": [
    "#np.ones(tuple) it take arugument as tuple and create the array of ones\n",
    "arr=np.ones((3,3))\n",
    "print(arr)\n"
   ]
  },
  {
   "cell_type": "code",
   "execution_count": 42,
   "metadata": {},
   "outputs": [
    {
     "name": "stdout",
     "output_type": "stream",
     "text": [
      "array of natural numbers  [[0.66527481 0.10354915 0.17476292]\n",
      " [0.19536222 0.456251   0.43846723]\n",
      " [0.90394982 0.65150084 0.02834941]]\n",
      "[[7 6 5]\n",
      " [2 5 7]\n",
      " [7 6 1]]\n",
      "[[0.27605058 0.84621783 0.19213796]\n",
      " [0.33467324 0.97455979 0.67239618]\n",
      " [0.56168842 0.93734438 0.11737762]]\n"
     ]
    }
   ],
   "source": [
    "#there is  one more function is by random method \n",
    "#np.random.rand() function is used to create the array of random numbers\n",
    "arr=np.random.rand(3,3)\n",
    "print(\"array of natural numbers \",arr)\n",
    "#np.random.randint() function is used to create the array of random integers\n",
    "arr=np.random.randint(1,10,(3,3)) # randint(start,stop,(shape))\n",
    "\n",
    "print(arr)\n",
    "\n",
    "#np.random.randn() function is used to create the array of random numbers with normal distribution\n",
    "arr=np.random.randn(3,3)\n",
    "#rint(arr)\n",
    "#np.random.normal() function is used to create the array of random numbers with normal distribution\n",
    "#np.randon.random() function is used to create the array of random numbers between 0 and 1\n",
    "arr=np.random.random((3,3))\n",
    "print(arr)"
   ]
  },
  {
   "cell_type": "code",
   "execution_count": 7,
   "metadata": {},
   "outputs": [
    {
     "data": {
      "text/plain": [
       "array([[ 2,  4, 67]])"
      ]
     },
     "execution_count": 7,
     "metadata": {},
     "output_type": "execute_result"
    }
   ],
   "source": [
    "arr1[:1,:3]"
   ]
  },
  {
   "cell_type": "code",
   "execution_count": 8,
   "metadata": {},
   "outputs": [
    {
     "name": "stdout",
     "output_type": "stream",
     "text": [
      "[ 0  2  4  6  8 10 12 14 16]\n"
     ]
    }
   ],
   "source": [
    "arr\n",
    "arr2=np.arange(0,18,2)\n",
    "arr2\n",
    "print(arr2)"
   ]
  },
  {
   "cell_type": "code",
   "execution_count": 9,
   "metadata": {},
   "outputs": [
    {
     "name": "stdout",
     "output_type": "stream",
     "text": [
      "[ 0  6 20 36 24 60 48 56 48]\n"
     ]
    }
   ],
   "source": [
    "arr\n",
    "s=arr *arr2\n",
    "print(s)\n"
   ]
  },
  {
   "cell_type": "code",
   "execution_count": 10,
   "metadata": {},
   "outputs": [
    {
     "name": "stdout",
     "output_type": "stream",
     "text": [
      "[[1. 1. 1. 1. 1.]\n",
      " [1. 1. 1. 1. 1.]\n",
      " [1. 1. 1. 1. 1.]\n",
      " [1. 1. 1. 1. 1.]]\n",
      "[[0. 0. 0. 0. 0.]\n",
      " [0. 0. 0. 0. 0.]\n",
      " [0. 0. 0. 0. 0.]\n",
      " [0. 0. 0. 0. 0.]]\n"
     ]
    }
   ],
   "source": [
    "# array of ones and zeroes\n",
    "print(np.ones((4,5)))\n",
    "print(np.zeros((4,5)))\n"
   ]
  },
  {
   "cell_type": "code",
   "execution_count": 11,
   "metadata": {},
   "outputs": [
    {
     "data": {
      "text/plain": [
       "array([2, 3, 5, 6, 3, 6, 4, 4, 3])"
      ]
     },
     "execution_count": 11,
     "metadata": {},
     "output_type": "execute_result"
    }
   ],
   "source": [
    "arr"
   ]
  },
  {
   "cell_type": "code",
   "execution_count": 12,
   "metadata": {},
   "outputs": [
    {
     "data": {
      "text/plain": [
       "array([7, 5, 8])"
      ]
     },
     "execution_count": 12,
     "metadata": {},
     "output_type": "execute_result"
    }
   ],
   "source": [
    "np.random.randint(4,10,3)"
   ]
  }
 ],
 "metadata": {
  "kernelspec": {
   "display_name": "Python 3",
   "language": "python",
   "name": "python3"
  },
  "language_info": {
   "codemirror_mode": {
    "name": "ipython",
    "version": 3
   },
   "file_extension": ".py",
   "mimetype": "text/x-python",
   "name": "python",
   "nbconvert_exporter": "python",
   "pygments_lexer": "ipython3",
   "version": "3.12.6"
  }
 },
 "nbformat": 4,
 "nbformat_minor": 2
}
